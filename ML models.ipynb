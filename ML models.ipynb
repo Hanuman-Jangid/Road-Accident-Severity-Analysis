{
 "cells": [
  {
   "cell_type": "code",
   "execution_count": 6,
   "id": "61f8305f",
   "metadata": {},
   "outputs": [],
   "source": [
    "# Importing necessary libraries\n",
    "import pandas as pd\n",
    "import numpy as np\n",
    "import matplotlib.pyplot as plt\n",
    "%matplotlib inline\n",
    "import seaborn as sns\n",
    "import warnings\n",
    "warnings.filterwarnings('ignore')"
   ]
  },
  {
   "cell_type": "code",
   "execution_count": 7,
   "id": "10c0bf5b",
   "metadata": {},
   "outputs": [
    {
     "data": {
      "text/html": [
       "<div>\n",
       "<style scoped>\n",
       "    .dataframe tbody tr th:only-of-type {\n",
       "        vertical-align: middle;\n",
       "    }\n",
       "\n",
       "    .dataframe tbody tr th {\n",
       "        vertical-align: top;\n",
       "    }\n",
       "\n",
       "    .dataframe thead th {\n",
       "        text-align: right;\n",
       "    }\n",
       "</style>\n",
       "<table border=\"1\" class=\"dataframe\">\n",
       "  <thead>\n",
       "    <tr style=\"text-align: right;\">\n",
       "      <th></th>\n",
       "      <th>Time</th>\n",
       "      <th>Day_of_week</th>\n",
       "      <th>Age_band_of_driver</th>\n",
       "      <th>Sex_of_driver</th>\n",
       "      <th>Educational_level</th>\n",
       "      <th>Vehicle_driver_relation</th>\n",
       "      <th>Driving_experience</th>\n",
       "      <th>Type_of_vehicle</th>\n",
       "      <th>Owner_of_vehicle</th>\n",
       "      <th>Service_year_of_vehicle</th>\n",
       "      <th>...</th>\n",
       "      <th>Vehicle_movement</th>\n",
       "      <th>Casualty_class</th>\n",
       "      <th>Sex_of_casualty</th>\n",
       "      <th>Age_band_of_casualty</th>\n",
       "      <th>Casualty_severity</th>\n",
       "      <th>Work_of_casuality</th>\n",
       "      <th>Fitness_of_casuality</th>\n",
       "      <th>Pedestrian_movement</th>\n",
       "      <th>Cause_of_accident</th>\n",
       "      <th>Accident_severity</th>\n",
       "    </tr>\n",
       "  </thead>\n",
       "  <tbody>\n",
       "    <tr>\n",
       "      <th>0</th>\n",
       "      <td>17:02:00</td>\n",
       "      <td>Monday</td>\n",
       "      <td>18-30</td>\n",
       "      <td>Male</td>\n",
       "      <td>Above high school</td>\n",
       "      <td>Employee</td>\n",
       "      <td>1-2yr</td>\n",
       "      <td>Automobile</td>\n",
       "      <td>Owner</td>\n",
       "      <td>Above 10yr</td>\n",
       "      <td>...</td>\n",
       "      <td>Going straight</td>\n",
       "      <td>NaN</td>\n",
       "      <td>NaN</td>\n",
       "      <td>NaN</td>\n",
       "      <td>NaN</td>\n",
       "      <td>NaN</td>\n",
       "      <td>NaN</td>\n",
       "      <td>Not a Pedestrian</td>\n",
       "      <td>Moving Backward</td>\n",
       "      <td>Slight Injury</td>\n",
       "    </tr>\n",
       "    <tr>\n",
       "      <th>1</th>\n",
       "      <td>17:02:00</td>\n",
       "      <td>Monday</td>\n",
       "      <td>31-50</td>\n",
       "      <td>Male</td>\n",
       "      <td>Junior high school</td>\n",
       "      <td>Employee</td>\n",
       "      <td>Above 10yr</td>\n",
       "      <td>Public (&gt; 45 seats)</td>\n",
       "      <td>Owner</td>\n",
       "      <td>5-10yrs</td>\n",
       "      <td>...</td>\n",
       "      <td>Going straight</td>\n",
       "      <td>NaN</td>\n",
       "      <td>NaN</td>\n",
       "      <td>NaN</td>\n",
       "      <td>NaN</td>\n",
       "      <td>NaN</td>\n",
       "      <td>NaN</td>\n",
       "      <td>Not a Pedestrian</td>\n",
       "      <td>Overtaking</td>\n",
       "      <td>Slight Injury</td>\n",
       "    </tr>\n",
       "    <tr>\n",
       "      <th>2</th>\n",
       "      <td>17:02:00</td>\n",
       "      <td>Monday</td>\n",
       "      <td>18-30</td>\n",
       "      <td>Male</td>\n",
       "      <td>Junior high school</td>\n",
       "      <td>Employee</td>\n",
       "      <td>1-2yr</td>\n",
       "      <td>Lorry (41?100Q)</td>\n",
       "      <td>Owner</td>\n",
       "      <td>NaN</td>\n",
       "      <td>...</td>\n",
       "      <td>Going straight</td>\n",
       "      <td>Driver or rider</td>\n",
       "      <td>Male</td>\n",
       "      <td>31-50</td>\n",
       "      <td>3.0</td>\n",
       "      <td>Driver</td>\n",
       "      <td>NaN</td>\n",
       "      <td>Not a Pedestrian</td>\n",
       "      <td>Changing lane to the left</td>\n",
       "      <td>Serious Injury</td>\n",
       "    </tr>\n",
       "    <tr>\n",
       "      <th>3</th>\n",
       "      <td>01:06:00</td>\n",
       "      <td>Sunday</td>\n",
       "      <td>18-30</td>\n",
       "      <td>Male</td>\n",
       "      <td>Junior high school</td>\n",
       "      <td>Employee</td>\n",
       "      <td>5-10yr</td>\n",
       "      <td>Public (&gt; 45 seats)</td>\n",
       "      <td>Governmental</td>\n",
       "      <td>NaN</td>\n",
       "      <td>...</td>\n",
       "      <td>Going straight</td>\n",
       "      <td>Pedestrian</td>\n",
       "      <td>Female</td>\n",
       "      <td>18-30</td>\n",
       "      <td>3.0</td>\n",
       "      <td>Driver</td>\n",
       "      <td>Normal</td>\n",
       "      <td>Not a Pedestrian</td>\n",
       "      <td>Changing lane to the right</td>\n",
       "      <td>Slight Injury</td>\n",
       "    </tr>\n",
       "    <tr>\n",
       "      <th>4</th>\n",
       "      <td>01:06:00</td>\n",
       "      <td>Sunday</td>\n",
       "      <td>18-30</td>\n",
       "      <td>Male</td>\n",
       "      <td>Junior high school</td>\n",
       "      <td>Employee</td>\n",
       "      <td>2-5yr</td>\n",
       "      <td>NaN</td>\n",
       "      <td>Owner</td>\n",
       "      <td>5-10yrs</td>\n",
       "      <td>...</td>\n",
       "      <td>Going straight</td>\n",
       "      <td>NaN</td>\n",
       "      <td>NaN</td>\n",
       "      <td>NaN</td>\n",
       "      <td>NaN</td>\n",
       "      <td>NaN</td>\n",
       "      <td>NaN</td>\n",
       "      <td>Not a Pedestrian</td>\n",
       "      <td>Overtaking</td>\n",
       "      <td>Slight Injury</td>\n",
       "    </tr>\n",
       "    <tr>\n",
       "      <th>5</th>\n",
       "      <td>14:15:00</td>\n",
       "      <td>Friday</td>\n",
       "      <td>31-50</td>\n",
       "      <td>Male</td>\n",
       "      <td>NaN</td>\n",
       "      <td>Unknown</td>\n",
       "      <td>NaN</td>\n",
       "      <td>NaN</td>\n",
       "      <td>NaN</td>\n",
       "      <td>NaN</td>\n",
       "      <td>...</td>\n",
       "      <td>U-Turn</td>\n",
       "      <td>Driver or rider</td>\n",
       "      <td>Male</td>\n",
       "      <td>31-50</td>\n",
       "      <td>3.0</td>\n",
       "      <td>Driver</td>\n",
       "      <td>Normal</td>\n",
       "      <td>Not a Pedestrian</td>\n",
       "      <td>Overloading</td>\n",
       "      <td>Slight Injury</td>\n",
       "    </tr>\n",
       "    <tr>\n",
       "      <th>6</th>\n",
       "      <td>17:30:00</td>\n",
       "      <td>Wednesday</td>\n",
       "      <td>18-30</td>\n",
       "      <td>Male</td>\n",
       "      <td>Junior high school</td>\n",
       "      <td>Employee</td>\n",
       "      <td>2-5yr</td>\n",
       "      <td>Automobile</td>\n",
       "      <td>Owner</td>\n",
       "      <td>NaN</td>\n",
       "      <td>...</td>\n",
       "      <td>Moving Backward</td>\n",
       "      <td>Driver or rider</td>\n",
       "      <td>Female</td>\n",
       "      <td>18-30</td>\n",
       "      <td>3.0</td>\n",
       "      <td>Driver</td>\n",
       "      <td>Normal</td>\n",
       "      <td>Not a Pedestrian</td>\n",
       "      <td>Other</td>\n",
       "      <td>Slight Injury</td>\n",
       "    </tr>\n",
       "    <tr>\n",
       "      <th>7</th>\n",
       "      <td>17:20:00</td>\n",
       "      <td>Friday</td>\n",
       "      <td>18-30</td>\n",
       "      <td>Male</td>\n",
       "      <td>Junior high school</td>\n",
       "      <td>Employee</td>\n",
       "      <td>2-5yr</td>\n",
       "      <td>Automobile</td>\n",
       "      <td>Governmental</td>\n",
       "      <td>Above 10yr</td>\n",
       "      <td>...</td>\n",
       "      <td>U-Turn</td>\n",
       "      <td>NaN</td>\n",
       "      <td>NaN</td>\n",
       "      <td>NaN</td>\n",
       "      <td>NaN</td>\n",
       "      <td>NaN</td>\n",
       "      <td>Normal</td>\n",
       "      <td>Not a Pedestrian</td>\n",
       "      <td>No priority to vehicle</td>\n",
       "      <td>Slight Injury</td>\n",
       "    </tr>\n",
       "    <tr>\n",
       "      <th>8</th>\n",
       "      <td>17:20:00</td>\n",
       "      <td>Friday</td>\n",
       "      <td>18-30</td>\n",
       "      <td>Male</td>\n",
       "      <td>Junior high school</td>\n",
       "      <td>Employee</td>\n",
       "      <td>Above 10yr</td>\n",
       "      <td>Lorry (41?100Q)</td>\n",
       "      <td>Owner</td>\n",
       "      <td>1-2yr</td>\n",
       "      <td>...</td>\n",
       "      <td>Going straight</td>\n",
       "      <td>Pedestrian</td>\n",
       "      <td>Male</td>\n",
       "      <td>Under 18</td>\n",
       "      <td>3.0</td>\n",
       "      <td>Driver</td>\n",
       "      <td>Normal</td>\n",
       "      <td>Crossing from driver's nearside</td>\n",
       "      <td>Changing lane to the right</td>\n",
       "      <td>Slight Injury</td>\n",
       "    </tr>\n",
       "    <tr>\n",
       "      <th>9</th>\n",
       "      <td>17:20:00</td>\n",
       "      <td>Friday</td>\n",
       "      <td>18-30</td>\n",
       "      <td>Male</td>\n",
       "      <td>Junior high school</td>\n",
       "      <td>Employee</td>\n",
       "      <td>1-2yr</td>\n",
       "      <td>Automobile</td>\n",
       "      <td>Owner</td>\n",
       "      <td>2-5yrs</td>\n",
       "      <td>...</td>\n",
       "      <td>U-Turn</td>\n",
       "      <td>Passenger</td>\n",
       "      <td>Male</td>\n",
       "      <td>18-30</td>\n",
       "      <td>3.0</td>\n",
       "      <td>Driver</td>\n",
       "      <td>Normal</td>\n",
       "      <td>Not a Pedestrian</td>\n",
       "      <td>Moving Backward</td>\n",
       "      <td>Serious Injury</td>\n",
       "    </tr>\n",
       "  </tbody>\n",
       "</table>\n",
       "<p>10 rows × 32 columns</p>\n",
       "</div>"
      ],
      "text/plain": [
       "       Time Day_of_week Age_band_of_driver Sex_of_driver   Educational_level  \\\n",
       "0  17:02:00      Monday              18-30          Male   Above high school   \n",
       "1  17:02:00      Monday              31-50          Male  Junior high school   \n",
       "2  17:02:00      Monday              18-30          Male  Junior high school   \n",
       "3  01:06:00      Sunday              18-30          Male  Junior high school   \n",
       "4  01:06:00      Sunday              18-30          Male  Junior high school   \n",
       "5  14:15:00      Friday              31-50          Male                 NaN   \n",
       "6  17:30:00   Wednesday              18-30          Male  Junior high school   \n",
       "7  17:20:00      Friday              18-30          Male  Junior high school   \n",
       "8  17:20:00      Friday              18-30          Male  Junior high school   \n",
       "9  17:20:00      Friday              18-30          Male  Junior high school   \n",
       "\n",
       "  Vehicle_driver_relation Driving_experience      Type_of_vehicle  \\\n",
       "0                Employee              1-2yr           Automobile   \n",
       "1                Employee         Above 10yr  Public (> 45 seats)   \n",
       "2                Employee              1-2yr      Lorry (41?100Q)   \n",
       "3                Employee             5-10yr  Public (> 45 seats)   \n",
       "4                Employee              2-5yr                  NaN   \n",
       "5                 Unknown                NaN                  NaN   \n",
       "6                Employee              2-5yr           Automobile   \n",
       "7                Employee              2-5yr           Automobile   \n",
       "8                Employee         Above 10yr      Lorry (41?100Q)   \n",
       "9                Employee              1-2yr           Automobile   \n",
       "\n",
       "  Owner_of_vehicle Service_year_of_vehicle  ... Vehicle_movement  \\\n",
       "0            Owner              Above 10yr  ...   Going straight   \n",
       "1            Owner                 5-10yrs  ...   Going straight   \n",
       "2            Owner                     NaN  ...   Going straight   \n",
       "3     Governmental                     NaN  ...   Going straight   \n",
       "4            Owner                 5-10yrs  ...   Going straight   \n",
       "5              NaN                     NaN  ...           U-Turn   \n",
       "6            Owner                     NaN  ...  Moving Backward   \n",
       "7     Governmental              Above 10yr  ...           U-Turn   \n",
       "8            Owner                   1-2yr  ...   Going straight   \n",
       "9            Owner                  2-5yrs  ...           U-Turn   \n",
       "\n",
       "    Casualty_class Sex_of_casualty Age_band_of_casualty Casualty_severity  \\\n",
       "0              NaN             NaN                  NaN               NaN   \n",
       "1              NaN             NaN                  NaN               NaN   \n",
       "2  Driver or rider            Male                31-50               3.0   \n",
       "3       Pedestrian          Female                18-30               3.0   \n",
       "4              NaN             NaN                  NaN               NaN   \n",
       "5  Driver or rider            Male                31-50               3.0   \n",
       "6  Driver or rider          Female                18-30               3.0   \n",
       "7              NaN             NaN                  NaN               NaN   \n",
       "8       Pedestrian            Male             Under 18               3.0   \n",
       "9        Passenger            Male                18-30               3.0   \n",
       "\n",
       "  Work_of_casuality Fitness_of_casuality              Pedestrian_movement  \\\n",
       "0               NaN                  NaN                 Not a Pedestrian   \n",
       "1               NaN                  NaN                 Not a Pedestrian   \n",
       "2            Driver                  NaN                 Not a Pedestrian   \n",
       "3            Driver               Normal                 Not a Pedestrian   \n",
       "4               NaN                  NaN                 Not a Pedestrian   \n",
       "5            Driver               Normal                 Not a Pedestrian   \n",
       "6            Driver               Normal                 Not a Pedestrian   \n",
       "7               NaN               Normal                 Not a Pedestrian   \n",
       "8            Driver               Normal  Crossing from driver's nearside   \n",
       "9            Driver               Normal                 Not a Pedestrian   \n",
       "\n",
       "            Cause_of_accident Accident_severity  \n",
       "0             Moving Backward     Slight Injury  \n",
       "1                  Overtaking     Slight Injury  \n",
       "2   Changing lane to the left    Serious Injury  \n",
       "3  Changing lane to the right     Slight Injury  \n",
       "4                  Overtaking     Slight Injury  \n",
       "5                 Overloading     Slight Injury  \n",
       "6                       Other     Slight Injury  \n",
       "7      No priority to vehicle     Slight Injury  \n",
       "8  Changing lane to the right     Slight Injury  \n",
       "9             Moving Backward    Serious Injury  \n",
       "\n",
       "[10 rows x 32 columns]"
      ]
     },
     "execution_count": 7,
     "metadata": {},
     "output_type": "execute_result"
    }
   ],
   "source": [
    "# Load the data into a dataframe\n",
    "accidents=pd.read_csv(\"road.csv\")\n",
    "accidents.head(10)"
   ]
  },
  {
   "cell_type": "code",
   "execution_count": 8,
   "id": "597c218b",
   "metadata": {},
   "outputs": [
    {
     "name": "stdout",
     "output_type": "stream",
     "text": [
      "<class 'pandas.core.frame.DataFrame'>\n",
      "RangeIndex: 12316 entries, 0 to 12315\n",
      "Data columns (total 32 columns):\n",
      " #   Column                       Non-Null Count  Dtype  \n",
      "---  ------                       --------------  -----  \n",
      " 0   Time                         12316 non-null  object \n",
      " 1   Day_of_week                  12316 non-null  object \n",
      " 2   Age_band_of_driver           12316 non-null  object \n",
      " 3   Sex_of_driver                12316 non-null  object \n",
      " 4   Educational_level            11575 non-null  object \n",
      " 5   Vehicle_driver_relation      11737 non-null  object \n",
      " 6   Driving_experience           11487 non-null  object \n",
      " 7   Type_of_vehicle              11366 non-null  object \n",
      " 8   Owner_of_vehicle             11834 non-null  object \n",
      " 9   Service_year_of_vehicle      8388 non-null   object \n",
      " 10  Defect_of_vehicle            7889 non-null   object \n",
      " 11  Area_accident_occured        12077 non-null  object \n",
      " 12  Lanes_or_Medians             11931 non-null  object \n",
      " 13  Road_allignment              12174 non-null  object \n",
      " 14  Types_of_Junction            11429 non-null  object \n",
      " 15  Road_surface_type            12144 non-null  object \n",
      " 16  Road_surface_conditions      12316 non-null  object \n",
      " 17  Light_conditions             12316 non-null  object \n",
      " 18  Weather_conditions           12316 non-null  object \n",
      " 19  Type_of_collision            12161 non-null  object \n",
      " 20  Number_of_vehicles_involved  12316 non-null  int64  \n",
      " 21  Number_of_casualties         12316 non-null  int64  \n",
      " 22  Vehicle_movement             12008 non-null  object \n",
      " 23  Casualty_class               7873 non-null   object \n",
      " 24  Sex_of_casualty              7873 non-null   object \n",
      " 25  Age_band_of_casualty         7873 non-null   object \n",
      " 26  Casualty_severity            7873 non-null   float64\n",
      " 27  Work_of_casuality            9118 non-null   object \n",
      " 28  Fitness_of_casuality         9681 non-null   object \n",
      " 29  Pedestrian_movement          12316 non-null  object \n",
      " 30  Cause_of_accident            12316 non-null  object \n",
      " 31  Accident_severity            12316 non-null  object \n",
      "dtypes: float64(1), int64(2), object(29)\n",
      "memory usage: 3.0+ MB\n"
     ]
    }
   ],
   "source": [
    "accidents.info()"
   ]
  },
  {
   "cell_type": "code",
   "execution_count": 9,
   "id": "051506a8",
   "metadata": {},
   "outputs": [
    {
     "data": {
      "text/plain": [
       "Time                              0\n",
       "Day_of_week                       0\n",
       "Age_band_of_driver                0\n",
       "Sex_of_driver                     0\n",
       "Educational_level               741\n",
       "Vehicle_driver_relation         579\n",
       "Driving_experience              829\n",
       "Type_of_vehicle                 950\n",
       "Owner_of_vehicle                482\n",
       "Service_year_of_vehicle        3928\n",
       "Defect_of_vehicle              4427\n",
       "Area_accident_occured           239\n",
       "Lanes_or_Medians                385\n",
       "Road_allignment                 142\n",
       "Types_of_Junction               887\n",
       "Road_surface_type               172\n",
       "Road_surface_conditions           0\n",
       "Light_conditions                  0\n",
       "Weather_conditions                0\n",
       "Type_of_collision               155\n",
       "Number_of_vehicles_involved       0\n",
       "Number_of_casualties              0\n",
       "Vehicle_movement                308\n",
       "Casualty_class                 4443\n",
       "Sex_of_casualty                4443\n",
       "Age_band_of_casualty           4443\n",
       "Casualty_severity              4443\n",
       "Work_of_casuality              3198\n",
       "Fitness_of_casuality           2635\n",
       "Pedestrian_movement               0\n",
       "Cause_of_accident                 0\n",
       "Accident_severity                 0\n",
       "dtype: int64"
      ]
     },
     "execution_count": 9,
     "metadata": {},
     "output_type": "execute_result"
    }
   ],
   "source": [
    "missing_values_count = accidents.isnull().sum()\n",
    "missing_values_count"
   ]
  },
  {
   "cell_type": "code",
   "execution_count": null,
   "id": "b3293adc",
   "metadata": {},
   "outputs": [],
   "source": []
  },
  {
   "cell_type": "code",
   "execution_count": 10,
   "id": "cfd9968f",
   "metadata": {},
   "outputs": [],
   "source": [
    "accidents['Defect_of_vehicle']=accidents['Defect_of_vehicle'].fillna('No defect')\n",
    "accidents['Service_year_of_vehicle']=accidents['Service_year_of_vehicle'].fillna('Unknown')\n",
    "accidents['Work_of_casuality']=accidents['Work_of_casuality'].fillna('Driver')\n",
    "accidents['Fitness_of_casuality']=accidents['Fitness_of_casuality'].fillna('Normal')\n",
    "accidents['Educational_level']=accidents['Educational_level'].fillna('Junior high school')\n",
    "accidents['Driving_experience']=accidents['Driving_experience'].fillna('5-10yr')\n",
    "accidents['Type_of_vehicle']=accidents['Type_of_vehicle'].fillna('Automobile')\n",
    "accidents['Types_of_Junction']=accidents['Types_of_Junction'].fillna('Y Shape')\n",
    "accidents['Vehicle_driver_relation']=accidents['Vehicle_driver_relation'].fillna('Employee')\n",
    "accidents['Type_of_collision']=accidents['Type_of_collision'].fillna('Vehicle with vehicle collision')\n",
    "accidents['Area_accident_occured']=accidents['Area_accident_occured'].fillna('Other')\n",
    "accidents['Owner_of_vehicle']=accidents['Owner_of_vehicle'].fillna('Owner')\n",
    "accidents['Lanes_or_Medians']=accidents['Lanes_or_Medians'].fillna('Two-way (divided with broken lines road marking)')\n",
    "accidents['Road_allignment']=accidents['Road_allignment'].fillna('Tangent road with flat terrain')\n",
    "accidents['Road_surface_type']=accidents['Road_surface_type'].fillna('Asphalt roads')\n",
    "accidents['Vehicle_movement']=accidents['Vehicle_movement'].fillna('Going straight')\n",
    "accidents['Casualty_class']=accidents['Casualty_class'].fillna('Driver or rider')\n",
    "accidents['Sex_of_casualty']=accidents['Sex_of_casualty'].fillna('Male')\n",
    "accidents['Age_band_of_casualty']=accidents['Age_band_of_casualty'].fillna('18-30')\n",
    "accidents['Casualty_severity']=accidents['Casualty_severity'].fillna('3.0')"
   ]
  },
  {
   "cell_type": "code",
   "execution_count": 11,
   "id": "1cf4eb93",
   "metadata": {},
   "outputs": [
    {
     "data": {
      "text/plain": [
       "Time                           0\n",
       "Day_of_week                    0\n",
       "Age_band_of_driver             0\n",
       "Sex_of_driver                  0\n",
       "Educational_level              0\n",
       "Vehicle_driver_relation        0\n",
       "Driving_experience             0\n",
       "Type_of_vehicle                0\n",
       "Owner_of_vehicle               0\n",
       "Service_year_of_vehicle        0\n",
       "Defect_of_vehicle              0\n",
       "Area_accident_occured          0\n",
       "Lanes_or_Medians               0\n",
       "Road_allignment                0\n",
       "Types_of_Junction              0\n",
       "Road_surface_type              0\n",
       "Road_surface_conditions        0\n",
       "Light_conditions               0\n",
       "Weather_conditions             0\n",
       "Type_of_collision              0\n",
       "Number_of_vehicles_involved    0\n",
       "Number_of_casualties           0\n",
       "Vehicle_movement               0\n",
       "Casualty_class                 0\n",
       "Sex_of_casualty                0\n",
       "Age_band_of_casualty           0\n",
       "Casualty_severity              0\n",
       "Work_of_casuality              0\n",
       "Fitness_of_casuality           0\n",
       "Pedestrian_movement            0\n",
       "Cause_of_accident              0\n",
       "Accident_severity              0\n",
       "dtype: int64"
      ]
     },
     "execution_count": 11,
     "metadata": {},
     "output_type": "execute_result"
    }
   ],
   "source": [
    "accidents.isnull().sum()"
   ]
  },
  {
   "cell_type": "code",
   "execution_count": 12,
   "id": "b73817b1",
   "metadata": {},
   "outputs": [],
   "source": [
    "# convert object type column into datetime datatype column\n",
    "df = accidents.copy()\n",
    "df['Time'] = pd.to_datetime(df['Time'])"
   ]
  },
  {
   "cell_type": "code",
   "execution_count": 13,
   "id": "3e8dae72",
   "metadata": {},
   "outputs": [
    {
     "data": {
      "text/html": [
       "<div>\n",
       "<style scoped>\n",
       "    .dataframe tbody tr th:only-of-type {\n",
       "        vertical-align: middle;\n",
       "    }\n",
       "\n",
       "    .dataframe tbody tr th {\n",
       "        vertical-align: top;\n",
       "    }\n",
       "\n",
       "    .dataframe thead th {\n",
       "        text-align: right;\n",
       "    }\n",
       "</style>\n",
       "<table border=\"1\" class=\"dataframe\">\n",
       "  <thead>\n",
       "    <tr style=\"text-align: right;\">\n",
       "      <th></th>\n",
       "      <th>Day_of_week</th>\n",
       "      <th>Age_band_of_driver</th>\n",
       "      <th>Sex_of_driver</th>\n",
       "      <th>Educational_level</th>\n",
       "      <th>Vehicle_driver_relation</th>\n",
       "      <th>Driving_experience</th>\n",
       "      <th>Type_of_vehicle</th>\n",
       "      <th>Owner_of_vehicle</th>\n",
       "      <th>Service_year_of_vehicle</th>\n",
       "      <th>Defect_of_vehicle</th>\n",
       "      <th>...</th>\n",
       "      <th>Casualty_class</th>\n",
       "      <th>Sex_of_casualty</th>\n",
       "      <th>Age_band_of_casualty</th>\n",
       "      <th>Casualty_severity</th>\n",
       "      <th>Work_of_casuality</th>\n",
       "      <th>Fitness_of_casuality</th>\n",
       "      <th>Pedestrian_movement</th>\n",
       "      <th>Cause_of_accident</th>\n",
       "      <th>Accident_severity</th>\n",
       "      <th>Hour_of_Day</th>\n",
       "    </tr>\n",
       "  </thead>\n",
       "  <tbody>\n",
       "    <tr>\n",
       "      <th>0</th>\n",
       "      <td>Monday</td>\n",
       "      <td>18-30</td>\n",
       "      <td>Male</td>\n",
       "      <td>Above high school</td>\n",
       "      <td>Employee</td>\n",
       "      <td>1-2yr</td>\n",
       "      <td>Automobile</td>\n",
       "      <td>Owner</td>\n",
       "      <td>Above 10yr</td>\n",
       "      <td>No defect</td>\n",
       "      <td>...</td>\n",
       "      <td>Driver or rider</td>\n",
       "      <td>Male</td>\n",
       "      <td>18-30</td>\n",
       "      <td>3.0</td>\n",
       "      <td>Driver</td>\n",
       "      <td>Normal</td>\n",
       "      <td>Not a Pedestrian</td>\n",
       "      <td>Moving Backward</td>\n",
       "      <td>Slight Injury</td>\n",
       "      <td>17</td>\n",
       "    </tr>\n",
       "    <tr>\n",
       "      <th>1</th>\n",
       "      <td>Monday</td>\n",
       "      <td>31-50</td>\n",
       "      <td>Male</td>\n",
       "      <td>Junior high school</td>\n",
       "      <td>Employee</td>\n",
       "      <td>Above 10yr</td>\n",
       "      <td>Public (&gt; 45 seats)</td>\n",
       "      <td>Owner</td>\n",
       "      <td>5-10yrs</td>\n",
       "      <td>No defect</td>\n",
       "      <td>...</td>\n",
       "      <td>Driver or rider</td>\n",
       "      <td>Male</td>\n",
       "      <td>18-30</td>\n",
       "      <td>3.0</td>\n",
       "      <td>Driver</td>\n",
       "      <td>Normal</td>\n",
       "      <td>Not a Pedestrian</td>\n",
       "      <td>Overtaking</td>\n",
       "      <td>Slight Injury</td>\n",
       "      <td>17</td>\n",
       "    </tr>\n",
       "    <tr>\n",
       "      <th>2</th>\n",
       "      <td>Monday</td>\n",
       "      <td>18-30</td>\n",
       "      <td>Male</td>\n",
       "      <td>Junior high school</td>\n",
       "      <td>Employee</td>\n",
       "      <td>1-2yr</td>\n",
       "      <td>Lorry (41?100Q)</td>\n",
       "      <td>Owner</td>\n",
       "      <td>Unknown</td>\n",
       "      <td>No defect</td>\n",
       "      <td>...</td>\n",
       "      <td>Driver or rider</td>\n",
       "      <td>Male</td>\n",
       "      <td>31-50</td>\n",
       "      <td>3.0</td>\n",
       "      <td>Driver</td>\n",
       "      <td>Normal</td>\n",
       "      <td>Not a Pedestrian</td>\n",
       "      <td>Changing lane to the left</td>\n",
       "      <td>Serious Injury</td>\n",
       "      <td>17</td>\n",
       "    </tr>\n",
       "    <tr>\n",
       "      <th>3</th>\n",
       "      <td>Sunday</td>\n",
       "      <td>18-30</td>\n",
       "      <td>Male</td>\n",
       "      <td>Junior high school</td>\n",
       "      <td>Employee</td>\n",
       "      <td>5-10yr</td>\n",
       "      <td>Public (&gt; 45 seats)</td>\n",
       "      <td>Governmental</td>\n",
       "      <td>Unknown</td>\n",
       "      <td>No defect</td>\n",
       "      <td>...</td>\n",
       "      <td>Pedestrian</td>\n",
       "      <td>Female</td>\n",
       "      <td>18-30</td>\n",
       "      <td>3.0</td>\n",
       "      <td>Driver</td>\n",
       "      <td>Normal</td>\n",
       "      <td>Not a Pedestrian</td>\n",
       "      <td>Changing lane to the right</td>\n",
       "      <td>Slight Injury</td>\n",
       "      <td>1</td>\n",
       "    </tr>\n",
       "    <tr>\n",
       "      <th>4</th>\n",
       "      <td>Sunday</td>\n",
       "      <td>18-30</td>\n",
       "      <td>Male</td>\n",
       "      <td>Junior high school</td>\n",
       "      <td>Employee</td>\n",
       "      <td>2-5yr</td>\n",
       "      <td>Automobile</td>\n",
       "      <td>Owner</td>\n",
       "      <td>5-10yrs</td>\n",
       "      <td>No defect</td>\n",
       "      <td>...</td>\n",
       "      <td>Driver or rider</td>\n",
       "      <td>Male</td>\n",
       "      <td>18-30</td>\n",
       "      <td>3.0</td>\n",
       "      <td>Driver</td>\n",
       "      <td>Normal</td>\n",
       "      <td>Not a Pedestrian</td>\n",
       "      <td>Overtaking</td>\n",
       "      <td>Slight Injury</td>\n",
       "      <td>1</td>\n",
       "    </tr>\n",
       "  </tbody>\n",
       "</table>\n",
       "<p>5 rows × 32 columns</p>\n",
       "</div>"
      ],
      "text/plain": [
       "  Day_of_week Age_band_of_driver Sex_of_driver   Educational_level  \\\n",
       "0      Monday              18-30          Male   Above high school   \n",
       "1      Monday              31-50          Male  Junior high school   \n",
       "2      Monday              18-30          Male  Junior high school   \n",
       "3      Sunday              18-30          Male  Junior high school   \n",
       "4      Sunday              18-30          Male  Junior high school   \n",
       "\n",
       "  Vehicle_driver_relation Driving_experience      Type_of_vehicle  \\\n",
       "0                Employee              1-2yr           Automobile   \n",
       "1                Employee         Above 10yr  Public (> 45 seats)   \n",
       "2                Employee              1-2yr      Lorry (41?100Q)   \n",
       "3                Employee             5-10yr  Public (> 45 seats)   \n",
       "4                Employee              2-5yr           Automobile   \n",
       "\n",
       "  Owner_of_vehicle Service_year_of_vehicle Defect_of_vehicle  ...  \\\n",
       "0            Owner              Above 10yr         No defect  ...   \n",
       "1            Owner                 5-10yrs         No defect  ...   \n",
       "2            Owner                 Unknown         No defect  ...   \n",
       "3     Governmental                 Unknown         No defect  ...   \n",
       "4            Owner                 5-10yrs         No defect  ...   \n",
       "\n",
       "    Casualty_class Sex_of_casualty Age_band_of_casualty Casualty_severity  \\\n",
       "0  Driver or rider            Male                18-30               3.0   \n",
       "1  Driver or rider            Male                18-30               3.0   \n",
       "2  Driver or rider            Male                31-50               3.0   \n",
       "3       Pedestrian          Female                18-30               3.0   \n",
       "4  Driver or rider            Male                18-30               3.0   \n",
       "\n",
       "  Work_of_casuality Fitness_of_casuality Pedestrian_movement  \\\n",
       "0            Driver               Normal    Not a Pedestrian   \n",
       "1            Driver               Normal    Not a Pedestrian   \n",
       "2            Driver               Normal    Not a Pedestrian   \n",
       "3            Driver               Normal    Not a Pedestrian   \n",
       "4            Driver               Normal    Not a Pedestrian   \n",
       "\n",
       "            Cause_of_accident Accident_severity  Hour_of_Day  \n",
       "0             Moving Backward     Slight Injury           17  \n",
       "1                  Overtaking     Slight Injury           17  \n",
       "2   Changing lane to the left    Serious Injury           17  \n",
       "3  Changing lane to the right     Slight Injury            1  \n",
       "4                  Overtaking     Slight Injury            1  \n",
       "\n",
       "[5 rows x 32 columns]"
      ]
     },
     "execution_count": 13,
     "metadata": {},
     "output_type": "execute_result"
    }
   ],
   "source": [
    "# Extrating 'Hour_of_Day' feature from the Time column\n",
    "new_df=df.copy()\n",
    "new_df['Hour_of_Day'] = new_df['Time'].dt.hour\n",
    "n_df = new_df.drop('Time', axis=1)\n",
    "n_df.head()"
   ]
  },
  {
   "cell_type": "code",
   "execution_count": 14,
   "id": "ce25629a",
   "metadata": {
    "scrolled": true
   },
   "outputs": [
    {
     "name": "stdout",
     "output_type": "stream",
     "text": [
      "<class 'pandas.core.frame.DataFrame'>\n",
      "RangeIndex: 12316 entries, 0 to 12315\n",
      "Data columns (total 32 columns):\n",
      " #   Column                       Non-Null Count  Dtype \n",
      "---  ------                       --------------  ----- \n",
      " 0   Day_of_week                  12316 non-null  object\n",
      " 1   Age_band_of_driver           12316 non-null  object\n",
      " 2   Sex_of_driver                12316 non-null  object\n",
      " 3   Educational_level            12316 non-null  object\n",
      " 4   Vehicle_driver_relation      12316 non-null  object\n",
      " 5   Driving_experience           12316 non-null  object\n",
      " 6   Type_of_vehicle              12316 non-null  object\n",
      " 7   Owner_of_vehicle             12316 non-null  object\n",
      " 8   Service_year_of_vehicle      12316 non-null  object\n",
      " 9   Defect_of_vehicle            12316 non-null  object\n",
      " 10  Area_accident_occured        12316 non-null  object\n",
      " 11  Lanes_or_Medians             12316 non-null  object\n",
      " 12  Road_allignment              12316 non-null  object\n",
      " 13  Types_of_Junction            12316 non-null  object\n",
      " 14  Road_surface_type            12316 non-null  object\n",
      " 15  Road_surface_conditions      12316 non-null  object\n",
      " 16  Light_conditions             12316 non-null  object\n",
      " 17  Weather_conditions           12316 non-null  object\n",
      " 18  Type_of_collision            12316 non-null  object\n",
      " 19  Number_of_vehicles_involved  12316 non-null  int64 \n",
      " 20  Number_of_casualties         12316 non-null  int64 \n",
      " 21  Vehicle_movement             12316 non-null  object\n",
      " 22  Casualty_class               12316 non-null  object\n",
      " 23  Sex_of_casualty              12316 non-null  object\n",
      " 24  Age_band_of_casualty         12316 non-null  object\n",
      " 25  Casualty_severity            12316 non-null  object\n",
      " 26  Work_of_casuality            12316 non-null  object\n",
      " 27  Fitness_of_casuality         12316 non-null  object\n",
      " 28  Pedestrian_movement          12316 non-null  object\n",
      " 29  Cause_of_accident            12316 non-null  object\n",
      " 30  Accident_severity            12316 non-null  object\n",
      " 31  Hour_of_Day                  12316 non-null  int64 \n",
      "dtypes: int64(3), object(29)\n",
      "memory usage: 3.0+ MB\n"
     ]
    }
   ],
   "source": [
    "n_df.info()"
   ]
  },
  {
   "cell_type": "code",
   "execution_count": 15,
   "id": "324ccd8d",
   "metadata": {},
   "outputs": [],
   "source": [
    "drop_features=['Owner_of_vehicle',  'Defect_of_vehicle', 'Lanes_or_Medians','Road_allignment', \n",
    "'Road_surface_type','Road_surface_conditions', 'Light_conditions', 'Weather_conditions',\n",
    "'Vehicle_movement', 'Casualty_class',  'Casualty_severity', 'Work_of_casuality', \n",
    "'Fitness_of_casuality', 'Pedestrian_movement','Accident_severity']"
   ]
  },
  {
   "cell_type": "code",
   "execution_count": 16,
   "id": "f2892574",
   "metadata": {},
   "outputs": [],
   "source": [
    "feature_df=n_df.drop(drop_features,axis=1)"
   ]
  },
  {
   "cell_type": "code",
   "execution_count": 17,
   "id": "c73dd38e",
   "metadata": {},
   "outputs": [
    {
     "name": "stdout",
     "output_type": "stream",
     "text": [
      "<class 'pandas.core.frame.DataFrame'>\n",
      "RangeIndex: 12316 entries, 0 to 12315\n",
      "Data columns (total 17 columns):\n",
      " #   Column                       Non-Null Count  Dtype \n",
      "---  ------                       --------------  ----- \n",
      " 0   Day_of_week                  12316 non-null  object\n",
      " 1   Age_band_of_driver           12316 non-null  object\n",
      " 2   Sex_of_driver                12316 non-null  object\n",
      " 3   Educational_level            12316 non-null  object\n",
      " 4   Vehicle_driver_relation      12316 non-null  object\n",
      " 5   Driving_experience           12316 non-null  object\n",
      " 6   Type_of_vehicle              12316 non-null  object\n",
      " 7   Service_year_of_vehicle      12316 non-null  object\n",
      " 8   Area_accident_occured        12316 non-null  object\n",
      " 9   Types_of_Junction            12316 non-null  object\n",
      " 10  Type_of_collision            12316 non-null  object\n",
      " 11  Number_of_vehicles_involved  12316 non-null  int64 \n",
      " 12  Number_of_casualties         12316 non-null  int64 \n",
      " 13  Sex_of_casualty              12316 non-null  object\n",
      " 14  Age_band_of_casualty         12316 non-null  object\n",
      " 15  Cause_of_accident            12316 non-null  object\n",
      " 16  Hour_of_Day                  12316 non-null  int64 \n",
      "dtypes: int64(3), object(14)\n",
      "memory usage: 1.6+ MB\n"
     ]
    }
   ],
   "source": [
    "feature_df.info()"
   ]
  },
  {
   "cell_type": "code",
   "execution_count": 18,
   "id": "c4d951ab",
   "metadata": {},
   "outputs": [],
   "source": [
    "# Categorical features to encode using one hot encoding \n",
    "features=['Day_of_week', 'Age_band_of_driver', 'Sex_of_driver',\n",
    "       'Educational_level', 'Vehicle_driver_relation', 'Driving_experience',\n",
    "       'Type_of_vehicle', 'Service_year_of_vehicle', 'Area_accident_occured',\n",
    "       'Types_of_Junction', 'Type_of_collision', 'Number_of_vehicles_involved',\n",
    "       'Number_of_casualties', 'Sex_of_casualty', 'Age_band_of_casualty',\n",
    "       'Cause_of_accident', 'Hour_of_Day']\n",
    "\n",
    "\n",
    "# setting input features X and target y \n",
    "X = feature_df[features]  # here features are selected from 'object' datatype\n",
    "y = n_df['Accident_severity']\n"
   ]
  },
  {
   "cell_type": "code",
   "execution_count": 19,
   "id": "59ecfded",
   "metadata": {},
   "outputs": [
    {
     "data": {
      "text/plain": [
       "(12316, 104)"
      ]
     },
     "execution_count": 19,
     "metadata": {},
     "output_type": "execute_result"
    }
   ],
   "source": [
    "# we will use pandas get_dummies method for on-hot encoding\n",
    "encoded_df = pd.get_dummies(X, drop_first=True)\n",
    "encoded_df.shape"
   ]
  },
  {
   "cell_type": "code",
   "execution_count": 20,
   "id": "f9379f62",
   "metadata": {},
   "outputs": [
    {
     "data": {
      "text/html": [
       "<div>\n",
       "<style scoped>\n",
       "    .dataframe tbody tr th:only-of-type {\n",
       "        vertical-align: middle;\n",
       "    }\n",
       "\n",
       "    .dataframe tbody tr th {\n",
       "        vertical-align: top;\n",
       "    }\n",
       "\n",
       "    .dataframe thead th {\n",
       "        text-align: right;\n",
       "    }\n",
       "</style>\n",
       "<table border=\"1\" class=\"dataframe\">\n",
       "  <thead>\n",
       "    <tr style=\"text-align: right;\">\n",
       "      <th></th>\n",
       "      <th>Number_of_vehicles_involved</th>\n",
       "      <th>Number_of_casualties</th>\n",
       "      <th>Hour_of_Day</th>\n",
       "      <th>Day_of_week_Monday</th>\n",
       "      <th>Day_of_week_Saturday</th>\n",
       "      <th>Day_of_week_Sunday</th>\n",
       "      <th>Day_of_week_Thursday</th>\n",
       "      <th>Day_of_week_Tuesday</th>\n",
       "      <th>Day_of_week_Wednesday</th>\n",
       "      <th>Age_band_of_driver_31-50</th>\n",
       "      <th>...</th>\n",
       "      <th>Cause_of_accident_No distancing</th>\n",
       "      <th>Cause_of_accident_No priority to pedestrian</th>\n",
       "      <th>Cause_of_accident_No priority to vehicle</th>\n",
       "      <th>Cause_of_accident_Other</th>\n",
       "      <th>Cause_of_accident_Overloading</th>\n",
       "      <th>Cause_of_accident_Overspeed</th>\n",
       "      <th>Cause_of_accident_Overtaking</th>\n",
       "      <th>Cause_of_accident_Overturning</th>\n",
       "      <th>Cause_of_accident_Turnover</th>\n",
       "      <th>Cause_of_accident_Unknown</th>\n",
       "    </tr>\n",
       "  </thead>\n",
       "  <tbody>\n",
       "    <tr>\n",
       "      <th>0</th>\n",
       "      <td>2</td>\n",
       "      <td>2</td>\n",
       "      <td>17</td>\n",
       "      <td>1</td>\n",
       "      <td>0</td>\n",
       "      <td>0</td>\n",
       "      <td>0</td>\n",
       "      <td>0</td>\n",
       "      <td>0</td>\n",
       "      <td>0</td>\n",
       "      <td>...</td>\n",
       "      <td>0</td>\n",
       "      <td>0</td>\n",
       "      <td>0</td>\n",
       "      <td>0</td>\n",
       "      <td>0</td>\n",
       "      <td>0</td>\n",
       "      <td>0</td>\n",
       "      <td>0</td>\n",
       "      <td>0</td>\n",
       "      <td>0</td>\n",
       "    </tr>\n",
       "    <tr>\n",
       "      <th>1</th>\n",
       "      <td>2</td>\n",
       "      <td>2</td>\n",
       "      <td>17</td>\n",
       "      <td>1</td>\n",
       "      <td>0</td>\n",
       "      <td>0</td>\n",
       "      <td>0</td>\n",
       "      <td>0</td>\n",
       "      <td>0</td>\n",
       "      <td>1</td>\n",
       "      <td>...</td>\n",
       "      <td>0</td>\n",
       "      <td>0</td>\n",
       "      <td>0</td>\n",
       "      <td>0</td>\n",
       "      <td>0</td>\n",
       "      <td>0</td>\n",
       "      <td>1</td>\n",
       "      <td>0</td>\n",
       "      <td>0</td>\n",
       "      <td>0</td>\n",
       "    </tr>\n",
       "    <tr>\n",
       "      <th>2</th>\n",
       "      <td>2</td>\n",
       "      <td>2</td>\n",
       "      <td>17</td>\n",
       "      <td>1</td>\n",
       "      <td>0</td>\n",
       "      <td>0</td>\n",
       "      <td>0</td>\n",
       "      <td>0</td>\n",
       "      <td>0</td>\n",
       "      <td>0</td>\n",
       "      <td>...</td>\n",
       "      <td>0</td>\n",
       "      <td>0</td>\n",
       "      <td>0</td>\n",
       "      <td>0</td>\n",
       "      <td>0</td>\n",
       "      <td>0</td>\n",
       "      <td>0</td>\n",
       "      <td>0</td>\n",
       "      <td>0</td>\n",
       "      <td>0</td>\n",
       "    </tr>\n",
       "    <tr>\n",
       "      <th>3</th>\n",
       "      <td>2</td>\n",
       "      <td>2</td>\n",
       "      <td>1</td>\n",
       "      <td>0</td>\n",
       "      <td>0</td>\n",
       "      <td>1</td>\n",
       "      <td>0</td>\n",
       "      <td>0</td>\n",
       "      <td>0</td>\n",
       "      <td>0</td>\n",
       "      <td>...</td>\n",
       "      <td>0</td>\n",
       "      <td>0</td>\n",
       "      <td>0</td>\n",
       "      <td>0</td>\n",
       "      <td>0</td>\n",
       "      <td>0</td>\n",
       "      <td>0</td>\n",
       "      <td>0</td>\n",
       "      <td>0</td>\n",
       "      <td>0</td>\n",
       "    </tr>\n",
       "    <tr>\n",
       "      <th>4</th>\n",
       "      <td>2</td>\n",
       "      <td>2</td>\n",
       "      <td>1</td>\n",
       "      <td>0</td>\n",
       "      <td>0</td>\n",
       "      <td>1</td>\n",
       "      <td>0</td>\n",
       "      <td>0</td>\n",
       "      <td>0</td>\n",
       "      <td>0</td>\n",
       "      <td>...</td>\n",
       "      <td>0</td>\n",
       "      <td>0</td>\n",
       "      <td>0</td>\n",
       "      <td>0</td>\n",
       "      <td>0</td>\n",
       "      <td>0</td>\n",
       "      <td>1</td>\n",
       "      <td>0</td>\n",
       "      <td>0</td>\n",
       "      <td>0</td>\n",
       "    </tr>\n",
       "    <tr>\n",
       "      <th>5</th>\n",
       "      <td>1</td>\n",
       "      <td>1</td>\n",
       "      <td>14</td>\n",
       "      <td>0</td>\n",
       "      <td>0</td>\n",
       "      <td>0</td>\n",
       "      <td>0</td>\n",
       "      <td>0</td>\n",
       "      <td>0</td>\n",
       "      <td>1</td>\n",
       "      <td>...</td>\n",
       "      <td>0</td>\n",
       "      <td>0</td>\n",
       "      <td>0</td>\n",
       "      <td>0</td>\n",
       "      <td>1</td>\n",
       "      <td>0</td>\n",
       "      <td>0</td>\n",
       "      <td>0</td>\n",
       "      <td>0</td>\n",
       "      <td>0</td>\n",
       "    </tr>\n",
       "    <tr>\n",
       "      <th>6</th>\n",
       "      <td>1</td>\n",
       "      <td>1</td>\n",
       "      <td>17</td>\n",
       "      <td>0</td>\n",
       "      <td>0</td>\n",
       "      <td>0</td>\n",
       "      <td>0</td>\n",
       "      <td>0</td>\n",
       "      <td>1</td>\n",
       "      <td>0</td>\n",
       "      <td>...</td>\n",
       "      <td>0</td>\n",
       "      <td>0</td>\n",
       "      <td>0</td>\n",
       "      <td>1</td>\n",
       "      <td>0</td>\n",
       "      <td>0</td>\n",
       "      <td>0</td>\n",
       "      <td>0</td>\n",
       "      <td>0</td>\n",
       "      <td>0</td>\n",
       "    </tr>\n",
       "    <tr>\n",
       "      <th>7</th>\n",
       "      <td>2</td>\n",
       "      <td>1</td>\n",
       "      <td>17</td>\n",
       "      <td>0</td>\n",
       "      <td>0</td>\n",
       "      <td>0</td>\n",
       "      <td>0</td>\n",
       "      <td>0</td>\n",
       "      <td>0</td>\n",
       "      <td>0</td>\n",
       "      <td>...</td>\n",
       "      <td>0</td>\n",
       "      <td>0</td>\n",
       "      <td>1</td>\n",
       "      <td>0</td>\n",
       "      <td>0</td>\n",
       "      <td>0</td>\n",
       "      <td>0</td>\n",
       "      <td>0</td>\n",
       "      <td>0</td>\n",
       "      <td>0</td>\n",
       "    </tr>\n",
       "    <tr>\n",
       "      <th>8</th>\n",
       "      <td>2</td>\n",
       "      <td>1</td>\n",
       "      <td>17</td>\n",
       "      <td>0</td>\n",
       "      <td>0</td>\n",
       "      <td>0</td>\n",
       "      <td>0</td>\n",
       "      <td>0</td>\n",
       "      <td>0</td>\n",
       "      <td>0</td>\n",
       "      <td>...</td>\n",
       "      <td>0</td>\n",
       "      <td>0</td>\n",
       "      <td>0</td>\n",
       "      <td>0</td>\n",
       "      <td>0</td>\n",
       "      <td>0</td>\n",
       "      <td>0</td>\n",
       "      <td>0</td>\n",
       "      <td>0</td>\n",
       "      <td>0</td>\n",
       "    </tr>\n",
       "    <tr>\n",
       "      <th>9</th>\n",
       "      <td>2</td>\n",
       "      <td>1</td>\n",
       "      <td>17</td>\n",
       "      <td>0</td>\n",
       "      <td>0</td>\n",
       "      <td>0</td>\n",
       "      <td>0</td>\n",
       "      <td>0</td>\n",
       "      <td>0</td>\n",
       "      <td>0</td>\n",
       "      <td>...</td>\n",
       "      <td>0</td>\n",
       "      <td>0</td>\n",
       "      <td>0</td>\n",
       "      <td>0</td>\n",
       "      <td>0</td>\n",
       "      <td>0</td>\n",
       "      <td>0</td>\n",
       "      <td>0</td>\n",
       "      <td>0</td>\n",
       "      <td>0</td>\n",
       "    </tr>\n",
       "  </tbody>\n",
       "</table>\n",
       "<p>10 rows × 104 columns</p>\n",
       "</div>"
      ],
      "text/plain": [
       "   Number_of_vehicles_involved  Number_of_casualties  Hour_of_Day  \\\n",
       "0                            2                     2           17   \n",
       "1                            2                     2           17   \n",
       "2                            2                     2           17   \n",
       "3                            2                     2            1   \n",
       "4                            2                     2            1   \n",
       "5                            1                     1           14   \n",
       "6                            1                     1           17   \n",
       "7                            2                     1           17   \n",
       "8                            2                     1           17   \n",
       "9                            2                     1           17   \n",
       "\n",
       "   Day_of_week_Monday  Day_of_week_Saturday  Day_of_week_Sunday  \\\n",
       "0                   1                     0                   0   \n",
       "1                   1                     0                   0   \n",
       "2                   1                     0                   0   \n",
       "3                   0                     0                   1   \n",
       "4                   0                     0                   1   \n",
       "5                   0                     0                   0   \n",
       "6                   0                     0                   0   \n",
       "7                   0                     0                   0   \n",
       "8                   0                     0                   0   \n",
       "9                   0                     0                   0   \n",
       "\n",
       "   Day_of_week_Thursday  Day_of_week_Tuesday  Day_of_week_Wednesday  \\\n",
       "0                     0                    0                      0   \n",
       "1                     0                    0                      0   \n",
       "2                     0                    0                      0   \n",
       "3                     0                    0                      0   \n",
       "4                     0                    0                      0   \n",
       "5                     0                    0                      0   \n",
       "6                     0                    0                      1   \n",
       "7                     0                    0                      0   \n",
       "8                     0                    0                      0   \n",
       "9                     0                    0                      0   \n",
       "\n",
       "   Age_band_of_driver_31-50  ...  Cause_of_accident_No distancing  \\\n",
       "0                         0  ...                                0   \n",
       "1                         1  ...                                0   \n",
       "2                         0  ...                                0   \n",
       "3                         0  ...                                0   \n",
       "4                         0  ...                                0   \n",
       "5                         1  ...                                0   \n",
       "6                         0  ...                                0   \n",
       "7                         0  ...                                0   \n",
       "8                         0  ...                                0   \n",
       "9                         0  ...                                0   \n",
       "\n",
       "   Cause_of_accident_No priority to pedestrian  \\\n",
       "0                                            0   \n",
       "1                                            0   \n",
       "2                                            0   \n",
       "3                                            0   \n",
       "4                                            0   \n",
       "5                                            0   \n",
       "6                                            0   \n",
       "7                                            0   \n",
       "8                                            0   \n",
       "9                                            0   \n",
       "\n",
       "   Cause_of_accident_No priority to vehicle  Cause_of_accident_Other  \\\n",
       "0                                         0                        0   \n",
       "1                                         0                        0   \n",
       "2                                         0                        0   \n",
       "3                                         0                        0   \n",
       "4                                         0                        0   \n",
       "5                                         0                        0   \n",
       "6                                         0                        1   \n",
       "7                                         1                        0   \n",
       "8                                         0                        0   \n",
       "9                                         0                        0   \n",
       "\n",
       "   Cause_of_accident_Overloading  Cause_of_accident_Overspeed  \\\n",
       "0                              0                            0   \n",
       "1                              0                            0   \n",
       "2                              0                            0   \n",
       "3                              0                            0   \n",
       "4                              0                            0   \n",
       "5                              1                            0   \n",
       "6                              0                            0   \n",
       "7                              0                            0   \n",
       "8                              0                            0   \n",
       "9                              0                            0   \n",
       "\n",
       "   Cause_of_accident_Overtaking  Cause_of_accident_Overturning  \\\n",
       "0                             0                              0   \n",
       "1                             1                              0   \n",
       "2                             0                              0   \n",
       "3                             0                              0   \n",
       "4                             1                              0   \n",
       "5                             0                              0   \n",
       "6                             0                              0   \n",
       "7                             0                              0   \n",
       "8                             0                              0   \n",
       "9                             0                              0   \n",
       "\n",
       "   Cause_of_accident_Turnover  Cause_of_accident_Unknown  \n",
       "0                           0                          0  \n",
       "1                           0                          0  \n",
       "2                           0                          0  \n",
       "3                           0                          0  \n",
       "4                           0                          0  \n",
       "5                           0                          0  \n",
       "6                           0                          0  \n",
       "7                           0                          0  \n",
       "8                           0                          0  \n",
       "9                           0                          0  \n",
       "\n",
       "[10 rows x 104 columns]"
      ]
     },
     "execution_count": 20,
     "metadata": {},
     "output_type": "execute_result"
    }
   ],
   "source": [
    "encoded_df.head(10)"
   ]
  },
  {
   "cell_type": "code",
   "execution_count": 21,
   "id": "e3318170",
   "metadata": {},
   "outputs": [
    {
     "name": "stdout",
     "output_type": "stream",
     "text": [
      "Encoded labels: ['Fatal injury' 'Serious Injury' 'Slight Injury']\n"
     ]
    }
   ],
   "source": [
    "# import labelencoder from sklearn.preprocessing\n",
    "from sklearn.preprocessing import LabelEncoder\n",
    "\n",
    "# create labelencoder object\n",
    "lb = LabelEncoder()\n",
    "lb.fit(y)\n",
    "y_encoded = lb.transform(y)\n",
    "print(\"Encoded labels:\",lb.classes_)\n",
    "y_en = pd.Series(y_encoded)\n"
   ]
  },
  {
   "cell_type": "code",
   "execution_count": 22,
   "id": "5ba37a0c",
   "metadata": {},
   "outputs": [],
   "source": [
    "# feature seleciton method using chi2 for categorical output, categorical input\n",
    "from sklearn.feature_selection import SelectKBest, chi2\n",
    "fs = SelectKBest(chi2, k=50)\n",
    "X_new = fs.fit_transform(encoded_df, y_en)\n",
    "\n",
    "# Take the selected features\n",
    "cols = fs.get_feature_names_out()\n",
    "\n",
    "# convert selected features into dataframe\n",
    "fs_df = pd.DataFrame(X_new, columns=cols)"
   ]
  },
  {
   "cell_type": "code",
   "execution_count": 23,
   "id": "e4afb492",
   "metadata": {},
   "outputs": [
    {
     "name": "stdout",
     "output_type": "stream",
     "text": [
      "Defaulting to user installation because normal site-packages is not writeable\n",
      "Requirement already satisfied: imblearn in c:\\users\\mundh\\appdata\\roaming\\python\\python39\\site-packages (0.0)\n",
      "Requirement already satisfied: imbalanced-learn in c:\\users\\mundh\\appdata\\roaming\\python\\python39\\site-packages (from imblearn) (0.12.3)\n",
      "Requirement already satisfied: scipy>=1.5.0 in c:\\vm\\lib\\site-packages (from imbalanced-learn->imblearn) (1.9.1)\n",
      "Requirement already satisfied: joblib>=1.1.1 in c:\\users\\mundh\\appdata\\roaming\\python\\python39\\site-packages (from imbalanced-learn->imblearn) (1.4.2)\n",
      "Requirement already satisfied: threadpoolctl>=2.0.0 in c:\\vm\\lib\\site-packages (from imbalanced-learn->imblearn) (2.2.0)\n",
      "Requirement already satisfied: numpy>=1.17.3 in c:\\users\\mundh\\appdata\\roaming\\python\\python39\\site-packages (from imbalanced-learn->imblearn) (1.23.5)\n",
      "Requirement already satisfied: scikit-learn>=1.0.2 in c:\\vm\\lib\\site-packages (from imbalanced-learn->imblearn) (1.0.2)\n",
      "Note: you may need to restart the kernel to use updated packages.\n"
     ]
    }
   ],
   "source": [
    "pip install imblearn"
   ]
  },
  {
   "cell_type": "code",
   "execution_count": 24,
   "id": "1b03f690",
   "metadata": {},
   "outputs": [
    {
     "data": {
      "text/plain": [
       "((31245, 50), (31245,))"
      ]
     },
     "execution_count": 24,
     "metadata": {},
     "output_type": "execute_result"
    }
   ],
   "source": [
    "# importing the SMOTENC object from imblearn library \n",
    "from imblearn.over_sampling import SMOTENC\n",
    "\n",
    "# categorical features for SMOTENC technique for categorical features\n",
    "n_cat_index = np.array(range(3,50))\n",
    "\n",
    "# creating smote object with SMOTENC class\n",
    "smote = SMOTENC(categorical_features=n_cat_index, random_state=42, n_jobs=True)\n",
    "X_n, y_n = smote.fit_resample(fs_df,y_en)\n",
    "\n",
    "# print the shape of new upsampled dataset\n",
    "X_n.shape, y_n.shape"
   ]
  },
  {
   "cell_type": "code",
   "execution_count": 25,
   "id": "e59f292b",
   "metadata": {},
   "outputs": [
    {
     "name": "stdout",
     "output_type": "stream",
     "text": [
      "2    10415\n",
      "1    10415\n",
      "0    10415\n",
      "dtype: int64\n"
     ]
    }
   ],
   "source": [
    "# print the target classes distribution\n",
    "print(y_n.value_counts())"
   ]
  },
  {
   "cell_type": "markdown",
   "id": "c9bd95e9",
   "metadata": {},
   "source": [
    "## MODEL BUILDING"
   ]
  },
  {
   "cell_type": "markdown",
   "id": "de7cacd5",
   "metadata": {},
   "source": [
    "## 1. RANDOM FOREST CLASSIFIER"
   ]
  },
  {
   "cell_type": "code",
   "execution_count": 26,
   "id": "d500a98a",
   "metadata": {},
   "outputs": [],
   "source": [
    "# import the necessary liabrary\n",
    "from sklearn.model_selection import train_test_split\n",
    "from sklearn.ensemble import RandomForestClassifier\n",
    "from sklearn.metrics import confusion_matrix, classification_report,accuracy_score"
   ]
  },
  {
   "cell_type": "code",
   "execution_count": 27,
   "id": "4e08415d",
   "metadata": {},
   "outputs": [],
   "source": [
    "# train and test split and building baseline model to predict target features\n",
    "x_train,x_test,y_train,y_test = train_test_split(X_n, y_n, test_size=0.2, random_state=42)"
   ]
  },
  {
   "cell_type": "code",
   "execution_count": 28,
   "id": "de0e0568",
   "metadata": {},
   "outputs": [
    {
     "data": {
      "text/plain": [
       "RandomForestClassifier(max_depth=20, n_estimators=800, random_state=42)"
      ]
     },
     "execution_count": 28,
     "metadata": {},
     "output_type": "execute_result"
    }
   ],
   "source": [
    "# modelling using random forest baseline\n",
    "rf = RandomForestClassifier(n_estimators=800, max_depth=20, random_state=42)\n",
    "rf.fit(x_train,y_train)"
   ]
  },
  {
   "cell_type": "code",
   "execution_count": 29,
   "id": "2d29d8b2",
   "metadata": {},
   "outputs": [],
   "source": [
    "y_pred_rfc_train=rf.predict(x_train)"
   ]
  },
  {
   "cell_type": "code",
   "execution_count": 30,
   "id": "b3458c77",
   "metadata": {},
   "outputs": [
    {
     "name": "stdout",
     "output_type": "stream",
     "text": [
      "              precision    recall  f1-score   support\n",
      "\n",
      "           0       1.00      0.99      0.99      8330\n",
      "           1       1.00      0.85      0.92      8315\n",
      "           2       0.86      1.00      0.93      8351\n",
      "\n",
      "    accuracy                           0.95     24996\n",
      "   macro avg       0.95      0.95      0.95     24996\n",
      "weighted avg       0.95      0.95      0.95     24996\n",
      "\n"
     ]
    }
   ],
   "source": [
    "cl=classification_report(y_train, y_pred_rfc_train)\n",
    "print(cl)"
   ]
  },
  {
   "cell_type": "code",
   "execution_count": 31,
   "id": "c27bb04b",
   "metadata": {},
   "outputs": [
    {
     "data": {
      "text/plain": [
       "0.9466714674347896"
      ]
     },
     "execution_count": 31,
     "metadata": {},
     "output_type": "execute_result"
    }
   ],
   "source": [
    "# predicting on test data\n",
    "y_pred_rfc_test = rf.predict(x_test)\n",
    "\n",
    "# train score \n",
    "rf.score(x_train, y_train)"
   ]
  },
  {
   "cell_type": "code",
   "execution_count": 32,
   "id": "a8531175",
   "metadata": {},
   "outputs": [
    {
     "name": "stdout",
     "output_type": "stream",
     "text": [
      "              precision    recall  f1-score   support\n",
      "\n",
      "           0       0.76      0.62      0.68      2085\n",
      "           1       0.63      0.63      0.63      2100\n",
      "           2       0.84      1.00      0.91      2064\n",
      "\n",
      "    accuracy                           0.75      6249\n",
      "   macro avg       0.74      0.75      0.74      6249\n",
      "weighted avg       0.74      0.75      0.74      6249\n",
      "\n"
     ]
    }
   ],
   "source": [
    "cl=classification_report(y_test,y_pred_rfc_test)\n",
    "print(cl)"
   ]
  },
  {
   "cell_type": "markdown",
   "id": "b39a2f1a",
   "metadata": {},
   "source": [
    "# Naive bayes"
   ]
  },
  {
   "cell_type": "code",
   "execution_count": 33,
   "id": "5739a437",
   "metadata": {},
   "outputs": [
    {
     "data": {
      "text/plain": [
       "GaussianNB()"
      ]
     },
     "execution_count": 33,
     "metadata": {},
     "output_type": "execute_result"
    }
   ],
   "source": [
    "# training the model on training set\n",
    "from sklearn.naive_bayes import GaussianNB\n",
    "gnb_model= GaussianNB()\n",
    "gnb_model.fit(x_train, y_train)"
   ]
  },
  {
   "cell_type": "markdown",
   "id": "8639f7cd",
   "metadata": {},
   "source": [
    "## training accuracy"
   ]
  },
  {
   "cell_type": "code",
   "execution_count": 34,
   "id": "d4343d83",
   "metadata": {},
   "outputs": [],
   "source": [
    "y_pred_gnb_train=gnb_model.predict(x_train)"
   ]
  },
  {
   "cell_type": "code",
   "execution_count": 35,
   "id": "d180deac",
   "metadata": {},
   "outputs": [
    {
     "name": "stdout",
     "output_type": "stream",
     "text": [
      "Accuracy of training model 0.6834293486957913\n",
      "==============================================================================\n",
      "Confusion Matrics [[5769 2441  120]\n",
      " [3709 3304 1302]\n",
      " [   3  338 8010]]\n",
      "==============================================================================\n",
      "              precision    recall  f1-score   support\n",
      "\n",
      "           0       0.61      0.69      0.65      8330\n",
      "           1       0.54      0.40      0.46      8315\n",
      "           2       0.85      0.96      0.90      8351\n",
      "\n",
      "    accuracy                           0.68     24996\n",
      "   macro avg       0.67      0.68      0.67     24996\n",
      "weighted avg       0.67      0.68      0.67     24996\n",
      "\n"
     ]
    }
   ],
   "source": [
    "print(\"Accuracy of training model\",accuracy_score(y_train,y_pred_gnb_train))\n",
    "print(\"==============================================================================\")\n",
    "print(\"Confusion Matrics\",confusion_matrix(y_train,y_pred_gnb_train))\n",
    "print(\"==============================================================================\")\n",
    "print(classification_report(y_train,y_pred_gnb_train))"
   ]
  },
  {
   "cell_type": "markdown",
   "id": "bb4aea91",
   "metadata": {},
   "source": [
    "## testing accuracy"
   ]
  },
  {
   "cell_type": "code",
   "execution_count": 36,
   "id": "97768a5b",
   "metadata": {},
   "outputs": [],
   "source": [
    "y_pred_gnb_test = gnb_model.predict(x_test)"
   ]
  },
  {
   "cell_type": "code",
   "execution_count": 37,
   "id": "27328a32",
   "metadata": {},
   "outputs": [
    {
     "name": "stdout",
     "output_type": "stream",
     "text": [
      "Accuracy of testing model 0.6765882541206593\n",
      "==============================================================================\n",
      "[[1427  630   28]\n",
      " [ 913  826  361]\n",
      " [   0   89 1975]]\n",
      "==============================================================================\n",
      "              precision    recall  f1-score   support\n",
      "\n",
      "           0       0.61      0.68      0.64      2085\n",
      "           1       0.53      0.39      0.45      2100\n",
      "           2       0.84      0.96      0.89      2064\n",
      "\n",
      "    accuracy                           0.68      6249\n",
      "   macro avg       0.66      0.68      0.66      6249\n",
      "weighted avg       0.66      0.68      0.66      6249\n",
      "\n"
     ]
    }
   ],
   "source": [
    "print(\"Accuracy of testing model\",accuracy_score(y_test,y_pred_gnb_test))\n",
    "print(\"==============================================================================\")\n",
    "print(confusion_matrix(y_test,y_pred_gnb_test))\n",
    "print(\"==============================================================================\")\n",
    "print(classification_report(y_test,y_pred_gnb_test))"
   ]
  },
  {
   "cell_type": "markdown",
   "id": "8095b597",
   "metadata": {},
   "source": [
    "##  SUPPORT VECTOR MACHINE"
   ]
  },
  {
   "cell_type": "code",
   "execution_count": 38,
   "id": "c32ae112",
   "metadata": {},
   "outputs": [
    {
     "data": {
      "text/plain": [
       "SVC(C=0.1, gamma=1, kernel='linear')"
      ]
     },
     "execution_count": 38,
     "metadata": {},
     "output_type": "execute_result"
    }
   ],
   "source": [
    "from sklearn.svm import SVC\n",
    "# Building a Support Vector Machine on train data\n",
    "svc_model = SVC(C= .1, kernel='linear', gamma= 1)\n",
    "svc_model.fit(x_train, y_train)"
   ]
  },
  {
   "cell_type": "markdown",
   "id": "3e24275b",
   "metadata": {},
   "source": [
    "## training accuracy"
   ]
  },
  {
   "cell_type": "code",
   "execution_count": 39,
   "id": "465dbbc0",
   "metadata": {},
   "outputs": [],
   "source": [
    "y_pred_svc_train=svc_model.predict(x_train)"
   ]
  },
  {
   "cell_type": "code",
   "execution_count": 40,
   "id": "0cd9150a",
   "metadata": {},
   "outputs": [
    {
     "name": "stdout",
     "output_type": "stream",
     "text": [
      "Accuracy of training model 0.7213554168666987\n",
      "==============================================================================\n",
      "[[5132 3068  130]\n",
      " [2402 4548 1365]\n",
      " [   0    0 8351]]\n",
      "==============================================================================\n",
      "              precision    recall  f1-score   support\n",
      "\n",
      "           0       0.68      0.62      0.65      8330\n",
      "           1       0.60      0.55      0.57      8315\n",
      "           2       0.85      1.00      0.92      8351\n",
      "\n",
      "    accuracy                           0.72     24996\n",
      "   macro avg       0.71      0.72      0.71     24996\n",
      "weighted avg       0.71      0.72      0.71     24996\n",
      "\n"
     ]
    }
   ],
   "source": [
    "print(\"Accuracy of training model\",accuracy_score(y_train,y_pred_svc_train))\n",
    "print(\"==============================================================================\")\n",
    "print(confusion_matrix(y_train,y_pred_svc_train))\n",
    "print(\"==============================================================================\")\n",
    "print(classification_report(y_train,y_pred_svc_train))"
   ]
  },
  {
   "cell_type": "markdown",
   "id": "f2be11a3",
   "metadata": {},
   "source": [
    "## test accuracy"
   ]
  },
  {
   "cell_type": "code",
   "execution_count": 41,
   "id": "aaccc387",
   "metadata": {},
   "outputs": [],
   "source": [
    "y_pred_svc_test = svc_model.predict(x_test)"
   ]
  },
  {
   "cell_type": "code",
   "execution_count": 42,
   "id": "1c8c7439",
   "metadata": {},
   "outputs": [
    {
     "name": "stdout",
     "output_type": "stream",
     "text": [
      "Accuracy of testing model 0.7117938870219235\n",
      "==============================================================================\n",
      "[[1276  781   28]\n",
      " [ 614 1108  378]\n",
      " [   0    0 2064]]\n",
      "==============================================================================\n",
      "              precision    recall  f1-score   support\n",
      "\n",
      "           0       0.68      0.61      0.64      2085\n",
      "           1       0.59      0.53      0.56      2100\n",
      "           2       0.84      1.00      0.91      2064\n",
      "\n",
      "    accuracy                           0.71      6249\n",
      "   macro avg       0.70      0.71      0.70      6249\n",
      "weighted avg       0.70      0.71      0.70      6249\n",
      "\n"
     ]
    }
   ],
   "source": [
    "print(\"Accuracy of testing model\",accuracy_score(y_test,y_pred_svc_test))\n",
    "print(\"==============================================================================\")\n",
    "print(confusion_matrix(y_test,y_pred_svc_test))\n",
    "print(\"==============================================================================\")\n",
    "print(classification_report(y_test,y_pred_svc_test))"
   ]
  },
  {
   "cell_type": "code",
   "execution_count": null,
   "id": "a15cf420",
   "metadata": {},
   "outputs": [],
   "source": []
  },
  {
   "cell_type": "markdown",
   "id": "3e1ba241",
   "metadata": {},
   "source": [
    "## . DECISION TREE"
   ]
  },
  {
   "cell_type": "code",
   "execution_count": 43,
   "id": "b99144b3",
   "metadata": {},
   "outputs": [
    {
     "data": {
      "text/plain": [
       "DecisionTreeClassifier(criterion='entropy')"
      ]
     },
     "execution_count": 43,
     "metadata": {},
     "output_type": "execute_result"
    }
   ],
   "source": [
    "from sklearn.tree import DecisionTreeClassifier\n",
    "dtc_model=DecisionTreeClassifier(criterion = 'entropy')\n",
    "dtc_model.fit(x_train,y_train)"
   ]
  },
  {
   "cell_type": "code",
   "execution_count": 63,
   "id": "7c205d27",
   "metadata": {},
   "outputs": [
    {
     "data": {
      "image/png": "[encoded data removed]",
      "text/plain": [
       "<Figure size 1500x1500 with 1 Axes>"
      ]
     },
     "metadata": {},
     "output_type": "display_data"
    }
   ],
   "source": [
    "features_list = encoded_df.columns.values\n",
    "feature_importance = dtc_model.feature_importances_\n",
    "sorted_idx = np.argsort(feature_importance)\n",
    "\n",
    "plt.figure(figsize=(15,15))\n",
    "plt.barh(range(len(sorted_idx)), feature_importance[sorted_idx], align='center', color =\"red\")\n",
    "plt.yticks(range(len(sorted_idx)), features_list[sorted_idx])\n",
    "plt.xlabel('Importance')\n",
    "plt.title('Feature importance')\n",
    "plt.draw()\n",
    "#plt.savefig(\"featureimp.png\", format='png', dpi=900, bbox_inches='tight')\n",
    "plt.show()"
   ]
  },
  {
   "cell_type": "markdown",
   "id": "a2c6747d",
   "metadata": {},
   "source": [
    "### training accuracy"
   ]
  },
  {
   "cell_type": "code",
   "execution_count": 44,
   "id": "20d1b897",
   "metadata": {},
   "outputs": [],
   "source": [
    "y_pred_dtc_train = dtc_model.predict(x_train)"
   ]
  },
  {
   "cell_type": "code",
   "execution_count": 45,
   "id": "dc8f3059",
   "metadata": {},
   "outputs": [
    {
     "name": "stdout",
     "output_type": "stream",
     "text": [
      "Accuracy of training model 0.9968795007201152\n",
      "==============================================================================\n",
      "[[8330    0    0]\n",
      " [   1 8294   20]\n",
      " [   5   52 8294]]\n",
      "==============================================================================\n",
      "              precision    recall  f1-score   support\n",
      "\n",
      "           0       1.00      1.00      1.00      8330\n",
      "           1       0.99      1.00      1.00      8315\n",
      "           2       1.00      0.99      1.00      8351\n",
      "\n",
      "    accuracy                           1.00     24996\n",
      "   macro avg       1.00      1.00      1.00     24996\n",
      "weighted avg       1.00      1.00      1.00     24996\n",
      "\n"
     ]
    }
   ],
   "source": [
    "print(\"Accuracy of training model\",accuracy_score(y_train,y_pred_dtc_train))\n",
    "print(\"==============================================================================\")\n",
    "print(confusion_matrix(y_train,y_pred_dtc_train))\n",
    "print(\"==============================================================================\")\n",
    "print(classification_report(y_train,y_pred_dtc_train))"
   ]
  },
  {
   "cell_type": "markdown",
   "id": "b34fc61f",
   "metadata": {},
   "source": [
    "## testing accuracy"
   ]
  },
  {
   "cell_type": "code",
   "execution_count": 46,
   "id": "84077e00",
   "metadata": {},
   "outputs": [],
   "source": [
    "y_pred_dtc_test = dtc_model.predict(x_test)"
   ]
  },
  {
   "cell_type": "code",
   "execution_count": 47,
   "id": "0c60b320",
   "metadata": {},
   "outputs": [
    {
     "name": "stdout",
     "output_type": "stream",
     "text": [
      "Accuracy of testing model 0.738038086093775\n",
      "==============================================================================\n",
      "[[1539  523   23]\n",
      " [ 498 1312  290]\n",
      " [  21  282 1761]]\n",
      "==============================================================================\n",
      "              precision    recall  f1-score   support\n",
      "\n",
      "           0       0.75      0.74      0.74      2085\n",
      "           1       0.62      0.62      0.62      2100\n",
      "           2       0.85      0.85      0.85      2064\n",
      "\n",
      "    accuracy                           0.74      6249\n",
      "   macro avg       0.74      0.74      0.74      6249\n",
      "weighted avg       0.74      0.74      0.74      6249\n",
      "\n"
     ]
    }
   ],
   "source": [
    "print(\"Accuracy of testing model\",accuracy_score(y_test,y_pred_dtc_test))\n",
    "print(\"==============================================================================\")\n",
    "print(confusion_matrix(y_test,y_pred_dtc_test))\n",
    "print(\"==============================================================================\")\n",
    "print(classification_report(y_test,y_pred_dtc_test))"
   ]
  },
  {
   "cell_type": "markdown",
   "id": "43e4ec51",
   "metadata": {},
   "source": [
    "## KNN"
   ]
  },
  {
   "cell_type": "code",
   "execution_count": 48,
   "id": "f6425b6e",
   "metadata": {},
   "outputs": [
    {
     "data": {
      "text/plain": [
       "KNeighborsClassifier(n_neighbors=3)"
      ]
     },
     "execution_count": 48,
     "metadata": {},
     "output_type": "execute_result"
    }
   ],
   "source": [
    "from sklearn.neighbors import KNeighborsClassifier\n",
    "knn_model = KNeighborsClassifier(n_neighbors = 3)\n",
    "knn_model.fit(x_train,y_train)"
   ]
  },
  {
   "cell_type": "markdown",
   "id": "84defba5",
   "metadata": {},
   "source": [
    "## training accuracy"
   ]
  },
  {
   "cell_type": "code",
   "execution_count": 49,
   "id": "fb092808",
   "metadata": {},
   "outputs": [],
   "source": [
    "y_pred_knn_train = knn_model.predict(x_train)"
   ]
  },
  {
   "cell_type": "code",
   "execution_count": 50,
   "id": "6c8d6956",
   "metadata": {},
   "outputs": [
    {
     "name": "stdout",
     "output_type": "stream",
     "text": [
      "Accuracy of training model 0.8562570011201792\n",
      "==============================================================================\n",
      "[[7193  983  154]\n",
      " [1366 6040  909]\n",
      " [  23  158 8170]]\n",
      "==============================================================================\n",
      "              precision    recall  f1-score   support\n",
      "\n",
      "           0       0.84      0.86      0.85      8330\n",
      "           1       0.84      0.73      0.78      8315\n",
      "           2       0.88      0.98      0.93      8351\n",
      "\n",
      "    accuracy                           0.86     24996\n",
      "   macro avg       0.85      0.86      0.85     24996\n",
      "weighted avg       0.85      0.86      0.85     24996\n",
      "\n"
     ]
    }
   ],
   "source": [
    "print(\"Accuracy of training model\",accuracy_score(y_train,y_pred_knn_train))\n",
    "print(\"==============================================================================\")\n",
    "print(confusion_matrix(y_train,y_pred_knn_train))\n",
    "print(\"==============================================================================\")\n",
    "print(classification_report(y_train,y_pred_knn_train))"
   ]
  },
  {
   "cell_type": "code",
   "execution_count": 51,
   "id": "dea47774",
   "metadata": {},
   "outputs": [],
   "source": [
    "y_pred_knn_test = knn_model.predict(x_test)"
   ]
  },
  {
   "cell_type": "code",
   "execution_count": 52,
   "id": "c1e1489f",
   "metadata": {},
   "outputs": [
    {
     "name": "stdout",
     "output_type": "stream",
     "text": [
      "Accuracy of testing model 0.7177148343734998\n",
      "==============================================================================\n",
      "[[1478  541   66]\n",
      " [ 667 1045  388]\n",
      " [  13   89 1962]]\n",
      "==============================================================================\n",
      "              precision    recall  f1-score   support\n",
      "\n",
      "           0       0.68      0.71      0.70      2085\n",
      "           1       0.62      0.50      0.55      2100\n",
      "           2       0.81      0.95      0.88      2064\n",
      "\n",
      "    accuracy                           0.72      6249\n",
      "   macro avg       0.71      0.72      0.71      6249\n",
      "weighted avg       0.71      0.72      0.71      6249\n",
      "\n"
     ]
    }
   ],
   "source": [
    "print(\"Accuracy of testing model\",accuracy_score(y_test,y_pred_knn_test))\n",
    "print(\"==============================================================================\")\n",
    "print(confusion_matrix(y_test,y_pred_knn_test))\n",
    "print(\"==============================================================================\")\n",
    "print(classification_report(y_test,y_pred_knn_test))"
   ]
  },
  {
   "cell_type": "markdown",
   "id": "60b6e52a",
   "metadata": {},
   "source": [
    "# 8. GradientBoostingClassifier"
   ]
  },
  {
   "cell_type": "code",
   "execution_count": 53,
   "id": "3d5798db",
   "metadata": {},
   "outputs": [
    {
     "data": {
      "text/plain": [
       "GradientBoostingClassifier(random_state=2903)"
      ]
     },
     "execution_count": 53,
     "metadata": {},
     "output_type": "execute_result"
    }
   ],
   "source": [
    "from sklearn.ensemble import GradientBoostingClassifier\n",
    "gbc_model = GradientBoostingClassifier(ccp_alpha=0.0, criterion='friedman_mse', init=None,\n",
    "                                       learning_rate=0.1, loss='deviance', max_depth=3,\n",
    "                                       max_features=None, max_leaf_nodes=None,\n",
    "                                       min_impurity_decrease=0.0,\n",
    "                                       min_samples_leaf=1, min_samples_split=2,\n",
    "                                       min_weight_fraction_leaf=0.0, n_estimators=100,\n",
    "                                       n_iter_no_change=None,\n",
    "                                       random_state=2903, subsample=1.0, tol=0.0001,\n",
    "                                       validation_fraction=0.1, verbose=0,\n",
    "                                       warm_start=False)\n",
    "gbc_model.fit(x_train,y_train)"
   ]
  },
  {
   "cell_type": "code",
   "execution_count": 54,
   "id": "74941f2c",
   "metadata": {},
   "outputs": [],
   "source": [
    "classifiergb = GradientBoostingClassifier(random_state=2903)"
   ]
  },
  {
   "cell_type": "markdown",
   "id": "eb4b3f91",
   "metadata": {},
   "source": [
    "### training accuracy"
   ]
  },
  {
   "cell_type": "code",
   "execution_count": 55,
   "id": "5ebf618b",
   "metadata": {},
   "outputs": [],
   "source": [
    "y_pred_gbc_train= gbc_model.predict(x_train)"
   ]
  },
  {
   "cell_type": "code",
   "execution_count": 56,
   "id": "ea92afc7",
   "metadata": {},
   "outputs": [
    {
     "name": "stdout",
     "output_type": "stream",
     "text": [
      "Accuracy of training model 0.8241718674987998\n",
      "==============================================================================\n",
      "[[6416 1785  129]\n",
      " [1150 5848 1317]\n",
      " [   0   14 8337]]\n",
      "==============================================================================\n",
      "              precision    recall  f1-score   support\n",
      "\n",
      "           0       0.85      0.77      0.81      8330\n",
      "           1       0.76      0.70      0.73      8315\n",
      "           2       0.85      1.00      0.92      8351\n",
      "\n",
      "    accuracy                           0.82     24996\n",
      "   macro avg       0.82      0.82      0.82     24996\n",
      "weighted avg       0.82      0.82      0.82     24996\n",
      "\n"
     ]
    }
   ],
   "source": [
    "print(\"Accuracy of training model\",accuracy_score(y_train,y_pred_gbc_train))\n",
    "print(\"==============================================================================\")\n",
    "print(confusion_matrix(y_train,y_pred_gbc_train))\n",
    "print(\"==============================================================================\")\n",
    "print(classification_report(y_train,y_pred_gbc_train))"
   ]
  },
  {
   "cell_type": "markdown",
   "id": "08856b0c",
   "metadata": {},
   "source": [
    "### testing accuracy"
   ]
  },
  {
   "cell_type": "code",
   "execution_count": 57,
   "id": "04e2d6f5",
   "metadata": {},
   "outputs": [],
   "source": [
    "y_pred_gbc_test= gbc_model.predict(x_test)"
   ]
  },
  {
   "cell_type": "code",
   "execution_count": 58,
   "id": "a586e95f",
   "metadata": {},
   "outputs": [
    {
     "name": "stdout",
     "output_type": "stream",
     "text": [
      "Accuracy of testing model 0.8033285325652104\n",
      "==============================================================================\n",
      "[[1545  512   28]\n",
      " [ 318 1415  367]\n",
      " [   0    4 2060]]\n",
      "==============================================================================\n",
      "              precision    recall  f1-score   support\n",
      "\n",
      "           0       0.83      0.74      0.78      2085\n",
      "           1       0.73      0.67      0.70      2100\n",
      "           2       0.84      1.00      0.91      2064\n",
      "\n",
      "    accuracy                           0.80      6249\n",
      "   macro avg       0.80      0.80      0.80      6249\n",
      "weighted avg       0.80      0.80      0.80      6249\n",
      "\n"
     ]
    }
   ],
   "source": [
    "print(\"Accuracy of testing model\",accuracy_score(y_test,y_pred_gbc_test))\n",
    "print(\"==============================================================================\")\n",
    "print(confusion_matrix(y_test,y_pred_gbc_test))\n",
    "print(\"==============================================================================\")\n",
    "print(classification_report(y_test,y_pred_gbc_test))"
   ]
  },
  {
   "cell_type": "markdown",
   "id": "e9a9450a",
   "metadata": {},
   "source": [
    "## Accuracy comparision"
   ]
  },
  {
   "cell_type": "code",
   "execution_count": 59,
   "id": "b361fa75",
   "metadata": {},
   "outputs": [],
   "source": [
    "model = ['RANDOM FOREST','GAUSSIAN NAIVE BAYES CLASSIFIER','SVC','DECISION TREE','KNN','GradientBoostingClassifier']\n",
    "\n",
    "training = [\n",
    "     (accuracy_score(y_train,y_pred_rfc_train)*100),   \n",
    "     (accuracy_score(y_train,y_pred_gnb_train)*100),\n",
    "     (accuracy_score(y_train,y_pred_svc_train)*100),\n",
    "     (accuracy_score(y_train,y_pred_dtc_train)*100),\n",
    "     (accuracy_score(y_train,y_pred_knn_train)*100),\n",
    "     (accuracy_score(y_train,y_pred_gbc_train)*100)\n",
    "]\n",
    "\n",
    "testing = [\n",
    "     (accuracy_score(y_test,y_pred_rfc_test)*100),\n",
    "     (accuracy_score(y_test,y_pred_gnb_test)*100),\n",
    "     (accuracy_score(y_test,y_pred_svc_test)*100),\n",
    "     (accuracy_score(y_test,y_pred_dtc_test)*100),\n",
    "     (accuracy_score(y_test,y_pred_knn_test)*100),\n",
    "     (accuracy_score(y_test,y_pred_gbc_test)*100)\n",
    "]"
   ]
  },
  {
   "cell_type": "code",
   "execution_count": null,
   "id": "edd7433f",
   "metadata": {},
   "outputs": [],
   "source": []
  },
  {
   "cell_type": "code",
   "execution_count": 60,
   "id": "013b5eb9",
   "metadata": {},
   "outputs": [
    {
     "data": {
      "text/html": [
       "<div>\n",
       "<style scoped>\n",
       "    .dataframe tbody tr th:only-of-type {\n",
       "        vertical-align: middle;\n",
       "    }\n",
       "\n",
       "    .dataframe tbody tr th {\n",
       "        vertical-align: top;\n",
       "    }\n",
       "\n",
       "    .dataframe thead th {\n",
       "        text-align: right;\n",
       "    }\n",
       "</style>\n",
       "<table border=\"1\" class=\"dataframe\">\n",
       "  <thead>\n",
       "    <tr style=\"text-align: right;\">\n",
       "      <th></th>\n",
       "      <th>Model</th>\n",
       "      <th>Training</th>\n",
       "      <th>Testing</th>\n",
       "    </tr>\n",
       "  </thead>\n",
       "  <tbody>\n",
       "    <tr>\n",
       "      <th>0</th>\n",
       "      <td>RANDOM FOREST</td>\n",
       "      <td>94.667147</td>\n",
       "      <td>74.939990</td>\n",
       "    </tr>\n",
       "    <tr>\n",
       "      <th>1</th>\n",
       "      <td>GAUSSIAN NAIVE BAYES CLASSIFIER</td>\n",
       "      <td>68.342935</td>\n",
       "      <td>67.658825</td>\n",
       "    </tr>\n",
       "    <tr>\n",
       "      <th>2</th>\n",
       "      <td>SVC</td>\n",
       "      <td>72.135542</td>\n",
       "      <td>71.179389</td>\n",
       "    </tr>\n",
       "    <tr>\n",
       "      <th>3</th>\n",
       "      <td>DECISION TREE</td>\n",
       "      <td>99.687950</td>\n",
       "      <td>73.803809</td>\n",
       "    </tr>\n",
       "    <tr>\n",
       "      <th>4</th>\n",
       "      <td>KNN</td>\n",
       "      <td>85.625700</td>\n",
       "      <td>71.771483</td>\n",
       "    </tr>\n",
       "    <tr>\n",
       "      <th>5</th>\n",
       "      <td>GradientBoostingClassifier</td>\n",
       "      <td>82.417187</td>\n",
       "      <td>80.332853</td>\n",
       "    </tr>\n",
       "  </tbody>\n",
       "</table>\n",
       "</div>"
      ],
      "text/plain": [
       "                             Model   Training    Testing\n",
       "0                    RANDOM FOREST  94.667147  74.939990\n",
       "1  GAUSSIAN NAIVE BAYES CLASSIFIER  68.342935  67.658825\n",
       "2                              SVC  72.135542  71.179389\n",
       "3                    DECISION TREE  99.687950  73.803809\n",
       "4                              KNN  85.625700  71.771483\n",
       "5       GradientBoostingClassifier  82.417187  80.332853"
      ]
     },
     "execution_count": 60,
     "metadata": {},
     "output_type": "execute_result"
    }
   ],
   "source": [
    "df = pd.DataFrame()\n",
    "df['Model'] = model\n",
    "df['Training'] = training\n",
    "df['Testing'] = testing\n",
    "df"
   ]
  },
  {
   "cell_type": "code",
   "execution_count": null,
   "id": "54e1622e",
   "metadata": {},
   "outputs": [],
   "source": []
  },
  {
   "cell_type": "code",
   "execution_count": null,
   "id": "5de21b2f",
   "metadata": {},
   "outputs": [],
   "source": []
  }
 ],
 "metadata": {
  "kernelspec": {
   "display_name": "Python 3 (ipykernel)",
   "language": "python",
   "name": "python3"
  },
  "language_info": {
   "codemirror_mode": {
    "name": "ipython",
    "version": 3
   },
   "file_extension": ".py",
   "mimetype": "text/x-python",
   "name": "python",
   "nbconvert_exporter": "python",
   "pygments_lexer": "ipython3",
   "version": "3.9.13"
  }
 },
 "nbformat": 4,
 "nbformat_minor": 5
}
